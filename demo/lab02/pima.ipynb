{
 "cells": [
  {
   "cell_type": "markdown",
   "id": "8d6f4b70",
   "metadata": {},
   "source": [
    "# Phân tích về đái tháo đường"
   ]
  },
  {
   "cell_type": "markdown",
   "id": "f8967d98",
   "metadata": {},
   "source": [
    "## 1. Tổng quan về file csv\n",
    "+ **Tổng quát:**\n",
    "Hồ sơ bệnh nhân tiểu đường được thu thập từ hai nguồn, một thiết bị ghi điện tử tự động và hồ sơ giấy. \n",
    "    + Thiết bị tự động có đồng hồ bên trong để đánh dấu thời gian các sự kiện, trong khi hồ sơ giấy chỉ cung cấp các khoảng ‘thời gian logic’ (bữa sáng, bữa trưa, bữa tối, trước khi đi ngủ). \n",
    "    + Đối với hồ sơ giấy, thời gian cố định được gán cho các mốc: bữa sáng (08:00), bữa trưa (12:00), bữa tối (18:00) và trước khi đi ngủ (22:00). Do đó, hồ sơ giấy có các thời điểm ghi giả định đồng nhất, trong khi hồ sơ điện tử có dấu thời gian thực tế hơn\n",
    "\n",
    "+ **Dữ liệu đầu vào:**\n",
    "    + Number of times pregnant (số lần mang thai)\n",
    "    + Plasma glucose concentration a 2 hours in an oral glucose tolerance test (Nồng độ glucose huyết tương sau 2 giờ trong nghiệm pháp dung nạp glucose bằng đường uống)\n",
    "    + Diastolic blood pressure (mm Hg) (Huyết áp tâm trương)\n",
    "    + Triceps skin fold thickness (mm) (Độ dày nếp gấp da cơ tam đầu hay cơ vùng mặt sau cánh tay)\n",
    "    + 2-Hour serum insulin (mu U/ml) (huyết thanh insulin 2 giờ)\n",
    "    + Body mass index (weight in kg/(height in m)^2) (chỉ số cơ thể)\n",
    "    + Diabetes pedigree function (bệnh truyền từ gia đình)\n",
    "    + Age (years) (tuổi)\n",
    "+ **Kết quả:**\n",
    "    + Class variable (0 or 1) (Lớp, phân biệt có bị bệnh hay không)"
   ]
  },
  {
   "cell_type": "code",
   "execution_count": 3,
   "id": "41a3620e",
   "metadata": {},
   "outputs": [],
   "source": [
    "from PIL import Image\n",
    "import matplotlib.pyplot as plt"
   ]
  },
  {
   "cell_type": "markdown",
   "id": "a1d176d2",
   "metadata": {},
   "source": [
    "## 2. Chuẩn bị vấn đề (Prepare Problem)"
   ]
  },
  {
   "cell_type": "markdown",
   "id": "05bd7352",
   "metadata": {},
   "source": [
    "### 2.1 Khai báo thư viện"
   ]
  },
  {
   "cell_type": "code",
   "execution_count": 4,
   "id": "66f7986c",
   "metadata": {},
   "outputs": [],
   "source": [
    "# Load libraries\n",
    "import os, sys\n",
    "from IPython import display\n",
    "import numpy as np\n",
    "import matplotlib.pyplot as plt\n",
    "import pandas as pd\n",
    "import seaborn as sns\n",
    "import joblib\n",
    "\n",
    "from sklearn.preprocessing import OneHotEncoder, LabelEncoder, OrdinalEncoder\n",
    "from sklearn.preprocessing import MinMaxScaler, StandardScaler\n",
    "from sklearn.model_selection import train_test_split\n",
    "\n",
    "import warnings\n",
    "\n",
    "%matplotlib inline\n",
    "# plt.rcParams[\"figure.figsize\"] = (12, 6)\n",
    "# plt.rcParams['figure.dpi'] = 100\n",
    "\n",
    "warnings.filterwarnings(\"ignore\")"
   ]
  },
  {
   "cell_type": "markdown",
   "id": "3dafba13",
   "metadata": {},
   "source": [
    "### 2.2. Nạp dữ liệu (Load Dataset)"
   ]
  },
  {
   "cell_type": "code",
   "execution_count": null,
   "id": "43309df9",
   "metadata": {},
   "outputs": [],
   "source": [
    "data_name = [    \"pregnancies\",        # Number of times pregnant\n",
    "    \"glucose\",            # Plasma glucose concentration (2h OGTT)\n",
    "    \"blood_pressure\",     # Diastolic blood pressure (mm Hg)\n",
    "    \"skin_thickness\",     # Triceps skin fold thickness (mm)\n",
    "    \"insulin\",            # 2-Hour serum insulin (mu U/ml)\n",
    "    \"bmi\",                # Body mass index\n",
    "    \"diabetes_pedigree\",  # Diabetes pedigree function\n",
    "    \"age\",                # Age (years)\n",
    "    \"Class\" ]\n",
    "df_dataset = pd.read_csv(r\"demo/lab02/pima-indians-diabetes.csv\", names = data_names)"
   ]
  }
 ],
 "metadata": {
  "kernelspec": {
   "display_name": "base",
   "language": "python",
   "name": "python3"
  },
  "language_info": {
   "codemirror_mode": {
    "name": "ipython",
    "version": 3
   },
   "file_extension": ".py",
   "mimetype": "text/x-python",
   "name": "python",
   "nbconvert_exporter": "python",
   "pygments_lexer": "ipython3",
   "version": "3.13.5"
  }
 },
 "nbformat": 4,
 "nbformat_minor": 5
}
