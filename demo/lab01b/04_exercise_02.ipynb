{
 "cells": [
  {
   "cell_type": "markdown",
   "id": "154c8525-a8b1-4532-8b8c-a6048596e61b",
   "metadata": {},
   "source": [
    "# Kỹ thuật lập trình Python"
   ]
  },
  {
   "cell_type": "markdown",
   "id": "bff7ceae-0971-41e5-9ad6-a25c303fecab",
   "metadata": {},
   "source": [
    "## Làm quen với Numpy"
   ]
  },
  {
   "cell_type": "markdown",
   "id": "bda2fb69-42db-4a12-8b57-7b4815510961",
   "metadata": {},
   "source": [
    "### Bài 1. Tính toán trên dãy số"
   ]
  },
  {
   "cell_type": "markdown",
   "id": "04e6a456-6793-4645-b159-426121c860a6",
   "metadata": {},
   "source": [
    "#### 1. Tạo một dãy số a có N phần tử (N = 10)"
   ]
  },
  {
   "cell_type": "code",
   "execution_count": 2,
   "id": "bac1a84b-a496-40c6-962e-97c0acaf7d8e",
   "metadata": {},
   "outputs": [
    {
     "name": "stdout",
     "output_type": "stream",
     "text": [
      "1. Tạo một dãy số a có N phần tử (N = 10)\n",
      "Day so a:  [174 147 164 136 122 180 187 135 116 114]\n"
     ]
    }
   ],
   "source": [
    "import numpy as np # Khai báo thư viện numpy\n",
    "N = 10\n",
    "print(\"1. Tạo một dãy số a có N phần tử (N = 10)\")\n",
    "a = np.random.randint(100, 200, N)\n",
    "\n",
    "\n",
    "print(\"Day so a: \", a)"
   ]
  },
  {
   "cell_type": "markdown",
   "id": "4d85d8e2-16ff-42d1-acda-97e62736aaf6",
   "metadata": {},
   "source": [
    "#### 2. Các thao tác trên dãy số a\n",
    "(a) Bình phương các phần tử trong dãy số <br/>\n",
    "(b) Tìm số lượng các phần tử của dãy số <br/>\n",
    "(c) In ra giá trị lớn nhất, giá trị nhỏ nhất và giá trị trung bình <br/>\n",
    "(d) Tính phương sai của dãy số $\\sigma^2 = \\frac{\\sum{\\left(a_i - \\mu\\right)^2}}{N - 1}$ với $\\mu = \\frac{\\sum{a_i}}{N}$ và độ lệch chuẩn $var = \\sqrt{\\sigma^2}$"
   ]
  },
  {
   "cell_type": "code",
   "execution_count": 3,
   "id": "5d245b5b-90d5-48bf-b870-fc7c2deecd12",
   "metadata": {},
   "outputs": [
    {
     "name": "stdout",
     "output_type": "stream",
     "text": [
      "2. Các thao tác tính toán đơn giản với dãy số a\n",
      "a. Binh phuong a:  [30276 21609 26896 18496 14884 32400 34969 18225 13456 12996]\n",
      "\n",
      "b. Do dai a:  10\n",
      "\n",
      "c. Gia tri lon nhat: [187], gia tri nho nhat: [114], gia tri trung binh [147.5]\n",
      "\n",
      "d. Phuong sai: [ 738.28] va do lech chuan: [ 27.17]\n"
     ]
    }
   ],
   "source": [
    "print(\"2. Các thao tác tính toán đơn giản với dãy số a\")\n",
    "# ...\n",
    "a2 = a **2\n",
    "na = len(a)\n",
    "print(\"a. Binh phuong a: \", a2)\n",
    "print(\"\\nb. Do dai a: \", na)\n",
    "\n",
    "v_max = np.max(a)\n",
    "v_min = np.min(a)\n",
    "v_mean = np.mean(a)\n",
    "# ...\n",
    "\n",
    "print(f'\\nc. Gia tri lon nhat: [{v_max}], gia tri nho nhat: [{v_min}], gia tri trung binh [{v_mean}]')\n",
    "\n",
    "\"\"\" CÁC BẠN LÀM BÀI Ở ĐÂY \"\"\"\n",
    "# ...\n",
    "mu = v_mean\n",
    "v_sigma2 = np.sum((a-mu)** 2)/(N-1)\n",
    "v_var = np.sqrt(v_sigma2)\n",
    "print(f'\\nd. Phuong sai: [{v_sigma2: .2f}] va do lech chuan: [{v_var: .2f}]')"
   ]
  },
  {
   "cell_type": "markdown",
   "id": "1b582e22-cc99-4933-892b-e0d83672fb7f",
   "metadata": {},
   "source": [
    "#### 3. Toán tử trên hai dãy số\n",
    "(a) Tạo dãy số x có 10 phần tử từ 1 đến 10 (dùng hàm np.arange) <br/>\n",
    "(b) Liệt kê và đếm số lượng phần tử chẵn và lẻ có trong dãy a và x <br/>\n",
    "(c) Tính khoảng cách giữa các phần tử ở vị trí lẻ của mảng a và x với $s = \\sqrt{\\sum{\\left(a_i - x_i\\right)^2}}$ với $i$ lẻ<br/>\n",
    "(d) Tìm khoảng cách nhỏ nhất giữa tập a và x. Ví dụ: min({1, 3, 5}, {2, 10, 8}} = 1"
   ]
  },
  {
   "cell_type": "code",
   "execution_count": 4,
   "id": "1c6f51c1-ac3d-46a8-ab35-0d087877fb9d",
   "metadata": {},
   "outputs": [
    {
     "name": "stdout",
     "output_type": "stream",
     "text": [
      "3. Xử lý khác trên dãy số\n",
      "a. Day so x: [ 1  2  3  4  5  6  7  8  9 10]\n"
     ]
    }
   ],
   "source": [
    "print(\"3. Xử lý khác trên dãy số\")\n",
    "x = np.arange(1,11)\n",
    "# ...\n",
    "\n",
    "print(f'a. Day so x: {x}')"
   ]
  },
  {
   "cell_type": "code",
   "execution_count": 5,
   "id": "13211d38-0008-49ba-ac7b-c4ea034d12f4",
   "metadata": {},
   "outputs": [
    {
     "name": "stdout",
     "output_type": "stream",
     "text": [
      "b. Cac phan tu chan trong day a, b: \n",
      "+ Day a: [174 147 164 136 122 180 187 135 116 114]\n",
      "  - Loc chan: [174 164 136 122 180 116 114]\n",
      "  - Day chua phan tu chan trong a: [174 164 136 122 180 116 114], so luong 7 phan tu.\n",
      "+ Day x: [ 1  2  3  4  5  6  7  8  9 10]\n",
      "  - Loc chan: [ 2  4  6  8 10]\n",
      "  - Day chua phan tu chan trong a: [ 2  4  6  8 10], so luong 5 phan tu.\n"
     ]
    }
   ],
   "source": [
    "a_la_chan = np.array([x for x in a if x%2 == 0])\n",
    "a_chan = np.array([y for y in a if y%2 == 0])\n",
    "n_a_chan = len(a_chan)\n",
    "x_la_chan = np.array([z for z in x if z%2 == 0])\n",
    "x_chan = np.array([k for k in x if k%2 == 0])\n",
    "n_x_chan = len(x_chan)\n",
    "# ...\n",
    "\n",
    "print( \"b. Cac phan tu chan trong day a, b: \")\n",
    "print(f\"+ Day a: {a}\")\n",
    "print(f\"  - Loc chan: {a_la_chan}\")\n",
    "print(f\"  - Day chua phan tu chan trong a: {a_chan}, so luong {n_a_chan} phan tu.\")\n",
    "print(f\"+ Day x: {x}\")\n",
    "print(f\"  - Loc chan: {x_la_chan}\")\n",
    "print(f\"  - Day chua phan tu chan trong a: {x_chan}, so luong {n_x_chan} phan tu.\")"
   ]
  },
  {
   "cell_type": "code",
   "execution_count": 7,
   "id": "1d441e53-26ad-45ff-a6d4-6abbb9c66f65",
   "metadata": {},
   "outputs": [
    {
     "name": "stdout",
     "output_type": "stream",
     "text": [
      "c.Tính hiệu các phần tử ở vị trí lẻ của mảng a và x: \n",
      "+ Vi tri le trong a va x: [1, 3, 5, 7, 9]\n",
      "+ Day so a: [174 147 164 136 122 180 187 135 116 114] va cac so o vi tri le: [147 136 180 135 114]\n",
      "+ Day so x: [ 1  2  3  4  5  6  7  8  9 10] va cac so o vi tri le: [ 2  4  6  8 10]\n",
      "+ Hieu cua a va x o vi tri le: [145 132 174 127 104]\n",
      "+ Khoang cach cac phan tu cua a va x o vi tri le:  309.31\n"
     ]
    }
   ],
   "source": [
    "\"\"\" CÁC BẠN LÀM BÀI Ở ĐÂY \"\"\"\n",
    "# ...\n",
    "v_le = list([x for x in range(len(a)) if x%2 != 0])\n",
    "a_le = np.array(a[v_le])\n",
    "x_le = np.array(x[v_le])\n",
    "hieu_le = np.array(a_le - x_le)\n",
    "kc_le = np.sqrt(np.sum((a_le - x_le) ** 2))\n",
    "print( \"c.Tính hiệu các phần tử ở vị trí lẻ của mảng a và x: \")\n",
    "print(f\"+ Vi tri le trong a va x: {v_le}\")\n",
    "print(f\"+ Day so a: {a} va cac so o vi tri le: {a_le}\")\n",
    "print(f\"+ Day so x: {x} va cac so o vi tri le: {x_le}\")\n",
    "print(f\"+ Hieu cua a va x o vi tri le: {hieu_le}\")\n",
    "print(f\"+ Khoang cach cac phan tu cua a va x o vi tri le: {kc_le: .2f}\")"
   ]
  },
  {
   "cell_type": "code",
   "execution_count": 8,
   "id": "92f5e91d-e213-4146-b873-0d2936c6990e",
   "metadata": {},
   "outputs": [
    {
     "name": "stdout",
     "output_type": "stream",
     "text": [
      "d. Tìm khoảng cách nhỏ nhất giữa tập a và x. Ví dụ: min({1, 3, 5}, {2, 10, 8}} = 1\n",
      "+ Day a: [174 147 164 136 122 180 187 135 116 114]\n",
      "+ Day x: [ 1  2  3  4  5  6  7  8  9 10]\n",
      "+ Khoang cach nho nhat: 104\n"
     ]
    }
   ],
   "source": [
    "print(\"d. Tìm khoảng cách nhỏ nhất giữa tập a và x. Ví dụ: min({1, 3, 5}, {2, 10, 8}} = 1\")\n",
    "\"\"\"\n",
    "Gợi ý: Áp dụng toán tử broatcasting\n",
    "[[1],                    [[1, 1, 1],        [[2, 10, 8],    =   [[-1, -9, -7],\n",
    " [3],   - [2, 10, 8] =    [3, 3, 3],   -     [2, 10, 8],         [ 1, -7, -5],  --> np.min(np.abs(...)) = 1\n",
    " [5]]                     [5, 5, 5]]         [2, 10, 8]]         [ 3, -5, -3]]\n",
    "\"\"\"\n",
    "v_min = np.min(np.abs(a - x))\n",
    "# Tăng số chiều dùng tại vị trí chiều cuối dùng np.newaxis như sau: a[:, np.newaxis]\n",
    "# ...\n",
    "\n",
    "print(f\"+ Day a: {a}\")\n",
    "print(f\"+ Day x: {x}\")\n",
    "print(f\"+ Khoang cach nho nhat: {v_min}\")"
   ]
  },
  {
   "cell_type": "markdown",
   "id": "d18845b8-0d51-4666-ba1c-5ff836ef3d54",
   "metadata": {},
   "source": [
    "#### 4. Sinh ngẫu nhiên dãy số\n",
    "(a) Sinh ngẫu nhiên dãy số có 100 phần tử theo phân bố đều với giá trị trong đoạn [1, 10] và vẽ đồ thị tần số xuất hiện <br/> \n",
    "(b) Sinh ngẫu nhiên N diem (x, y) với y là hàm phân phối chuẩn $N(\\mu = 1, \\sigma^2 = 1.0)$: <br/>\n",
    " $$\n",
    " y = f\\left(x| \\mu, \\sigma\\right) = \\frac{1}{\\sigma\\sqrt{2\\pi}}exp\\left(-\\frac{\\left(x - \\mu\\right)^2}{2\\sigma^2}\\right)\n",
    " $$\n",
    " nơi mà $x \\in [\\mu - 5\\sigma, \\mu + 5\\sigma]$ <br/> \n",
    " (c) Sinh ngẫu nhiên dãy số có 100000 phần tử theo phân bố chuẩn $N(\\mu = 1, \\sigma^2 = 1.0)$ và vẽ đồ thị tần số xuất hiện <br/> <br/> "
   ]
  },
  {
   "cell_type": "code",
   "execution_count": 23,
   "id": "4d35cd9c-3163-486e-baef-63180ff2f5b6",
   "metadata": {},
   "outputs": [
    {
     "name": "stdout",
     "output_type": "stream",
     "text": [
      "a. Sinh ngẫu nhiên theo phân bố đều\n",
      "+ Gia tri: [ 1  2  3  4  5  6  7  8  9 10]\n",
      "+ So lan xuat hien: [ 6 11  6 11  7 16  7  7 14 15]\n",
      "+ Do thi ham so xuat hien\n"
     ]
    },
    {
     "data": {
      "image/png": "[encoded data removed]",
      "text/plain": [
       "<Figure size 600x600 with 1 Axes>"
      ]
     },
     "metadata": {},
     "output_type": "display_data"
    }
   ],
   "source": [
    "import matplotlib.pyplot as plt  # Khai báo thư viện pyplot trong matplotlib\n",
    "\n",
    "rand_num = np.random.randint(1, 11, 100)\n",
    "value,cnt = np.unique(rand_num,return_counts=True)\n",
    "# Sử dụng hàm np.random.randint để sinh dãy số ngẫu nhiên\n",
    "# Sử dụng hàm np.unique để trả về tần số xuất hiện\n",
    "# ...\n",
    "\n",
    "print(\"a. Sinh ngẫu nhiên theo phân bố đều\")\n",
    "print(f\"+ Gia tri: {value}\")\n",
    "print(f\"+ So lan xuat hien: {cnt}\")\n",
    "print(\"+ Do thi ham so xuat hien\")\n",
    "plt.figure(figsize=(6,6))      #  kich thuoc ban ve\n",
    "plt.bar(value, cnt)            #  ve cac khoi chu nhat theo day x, y\n",
    "plt.xlim(0, 11)                #  gioi han truc x\n",
    "plt.ylim(0, np.max(cnt) + 10)  #  gioi han truc y\n",
    "plt.savefig(\"4a.png\")          #  luu do thi\n",
    "plt.show()                     #  hien thi do thi"
   ]
  },
  {
   "cell_type": "code",
   "execution_count": null,
   "id": "55c99911-a213-4961-85b7-2ef09b775945",
   "metadata": {},
   "outputs": [
    {
     "name": "stdout",
     "output_type": "stream",
     "text": [
      "b. Sinh cặp (x, y) với y làm hàm phân phối chuẩn\n",
      "+ x: -4.0 <= min [-3.95] <= max [ 5.73] <= 6.0\n",
      "+ Ve ham so y(x)\n"
     ]
    },
    {
     "data": {
      "image/png": "[encoded data removed]",
      "text/plain": [
       "<Figure size 600x600 with 1 Axes>"
      ]
     },
     "metadata": {},
     "output_type": "display_data"
    }
   ],
   "source": [
    "\n",
    "# Sử dụm hàm np.random.rand() sinh số ngẫu nhiên trong [0,1) --> [0,1) * (b - a) + a --> [a, b)\n",
    "# Sử dụng hàm sau để tính hàm xác suất chuẩn N(m, s): np.sqrt, np.exp\n",
    "# ..\n",
    "mu = 1\n",
    "sigma = 1.0\n",
    "N = 200 \n",
    "\n",
    "\n",
    "x_min, x_max = mu - 5 * sigma, mu + 5 * sigma\n",
    "x = np.random.rand(N) * (x_max - x_min) + x_min\n",
    "y = (1/(sigma*np.sqrt(2*np.pi)))*np.exp(-((x-mu)**2)/(2*sigma**2))\n",
    "\n",
    "print(\"b. Sinh cặp (x, y) với y làm hàm phân phối chuẩn\")\n",
    "print(f\"+ x: {x_min} <= min [{np.min(x): .2f}] <= max [{np.max(x): .2f}] <= {x_max}\")\n",
    "print(f\"+ Ve ham so y(x)\")\n",
    "plt.figure(figsize=(6,6))      # kich thuoc ban ve\n",
    "plt.scatter(x, y)              # ve cac diem (xi, yi)\n",
    "plt.savefig(\"4b.png\")          #  luu do thi\n",
    "plt.show()                     #  hien thi do thi"
   ]
  },
  {
   "cell_type": "code",
   "execution_count": 28,
   "id": "0b4cf743-6afa-47da-8d3e-61f84623c707",
   "metadata": {},
   "outputs": [
    {
     "name": "stdout",
     "output_type": "stream",
     "text": [
      "c. Sinh day so theo phan phoi chuan\n",
      "+ x: len = 100000, min [-3.133005701215815], max [5.227889980835909]\n",
      "+ Mat so xac suat cua day so x\n"
     ]
    },
    {
     "data": {
      "image/png": "[encoded data removed]",
      "text/plain": [
       "<Figure size 600x600 with 1 Axes>"
      ]
     },
     "metadata": {},
     "output_type": "display_data"
    }
   ],
   "source": [
    "mu = 1\n",
    "sigma = 1.0\n",
    "N = 100000\n",
    "x = np.random.randn(N)*sigma + mu\n",
    "# Sử dụng hàm np.random.randn() sinh phân phối chuẩn N(0,1) --> N(m,s^2) = m + N(0,1) * s\n",
    "# Sử dụng hàm np.histogram với density=True để thống kê số lần xuất hiện với số bins = 300 (do dãy số thực)\n",
    "# ...\n",
    "\n",
    "\n",
    "print( \"c. Sinh day so theo phan phoi chuan\")\n",
    "print(f\"+ x: len = {len(x)}, min [{np.min(x)}], max [{np.max(x)}]\")\n",
    "print(f\"+ Mat so xac suat cua day so x\")\n",
    "plt.figure(figsize=(6,6))      # kich thuoc ban ve\n",
    "cnt, val = np.histogram(x, bins=300, density=True)\n",
    "val = (val[:-1] + val[1:]) / 2\n",
    "plt.xlim(np.min(val), np.max(val))\n",
    "plt.scatter(val, cnt)\n",
    "plt.show()"
   ]
  },
  {
   "cell_type": "markdown",
   "id": "4f1a6dde-3e75-4dc7-8bab-40b7b9e17091",
   "metadata": {},
   "source": [
    "### Bài 2. Tính toán trên ma trận"
   ]
  },
  {
   "cell_type": "markdown",
   "id": "8ce5c9f7-de68-44cf-a1ce-950822c408d3",
   "metadata": {},
   "source": [
    "#### 1. Tạo ma trận a có M = 6 dòng, N = 4 cột"
   ]
  },
  {
   "cell_type": "code",
   "execution_count": 29,
   "id": "17b1f09d-11c7-4711-8b40-f67abd54323e",
   "metadata": {},
   "outputs": [
    {
     "name": "stdout",
     "output_type": "stream",
     "text": [
      "Ma trận a: \n",
      " [[182 151 142 108]\n",
      " [171 149 127 196]\n",
      " [172 173 111 140]\n",
      " [161 110 157 109]\n",
      " [187 176 132 163]\n",
      " [119 165 162 183]]\n"
     ]
    }
   ],
   "source": [
    "# a = np.random.randint(100, 200, (6, 4))\n",
    "a = np.random.randint(100,200,(6,4))\n",
    "# ...\n",
    "\n",
    "print(\"Ma trận a: \\n\", a)"
   ]
  },
  {
   "cell_type": "markdown",
   "id": "8bc353b9-1740-4e94-b779-eae046171142",
   "metadata": {},
   "source": [
    "#### 2. Các thao tác trên ma trận a\n",
    "(a) In ra ma trận chuyển vị <br/>\n",
    "(b) In ra phần tử ở vị trí dòng 2 cột 3 <br/>\n",
    "(c) Trích xuất dòng đầu, dòng cuối, dòng 2 <br/>\n",
    "(d) Trích xuất cột kế cuối, cột đầu <br/>\n",
    "(e) Đảo các giá trị trên từng cột <br/>\n",
    "(f) Tính tổng các dòng, trung bình các cột <br/>"
   ]
  },
  {
   "cell_type": "code",
   "execution_count": 32,
   "id": "5236b916-3dda-4444-8004-9a6ab8d80df4",
   "metadata": {},
   "outputs": [
    {
     "name": "stdout",
     "output_type": "stream",
     "text": [
      "a. In ra ma trận chuyển vị: \n",
      "[[182 171 172 161 187 119]\n",
      " [151 149 173 110 176 165]\n",
      " [142 127 111 157 132 162]\n",
      " [108 196 140 109 163 183]]\n",
      "\n",
      "b. In ra phần tử ở vị trí dòng 2 cột 3: 140\n",
      "\n",
      "c. Trích xuất các dòng: \n",
      "   + Dòng đầu : [182 151 142 108]\n",
      "   + Dòng cuối: [119 165 162 183]\n",
      "   + Dòng hai : [172 173 111 140]\n",
      "\n",
      "d. Trích xuất các cột: \n",
      "   + Cột kế cuối: [142 127 111 157 132 162]\n",
      "   + Cột đầu: [182 171 172 161 187 119]\n",
      "\n",
      "e. Đảo các giá trị trên từng cột: \n",
      " [[119 165 162 183]\n",
      " [187 176 132 163]\n",
      " [161 110 157 109]\n",
      " [172 173 111 140]\n",
      " [171 149 127 196]\n",
      " [182 151 142 108]]\n",
      "\n",
      "f. Phép tính theo trục:\n",
      "   + Tổng dòng: [583 643 596 537 658 629]\n",
      "   + Trung bình cột: [145.75 160.75 149.   134.25 164.5  157.25]\n"
     ]
    }
   ],
   "source": [
    "\"\"\" CÁC BẠN LÀM BÀI Ở ĐÂY \"\"\"\n",
    "# ...\n",
    "a_t = a.T\n",
    "v_23 = a[2][3]\n",
    "d_0 = a[0,]\n",
    "d_last = a[-1,]\n",
    "d_2 = a[2,]\n",
    "c_l1 = a_t[-2,]\n",
    "c_0 = a_t[0,]\n",
    "dao_cot = a[::-1]\n",
    "tong_dong = np.array([np.sum(x) for x in a[::]])\n",
    "tb_cot = np.array([np.mean(x) for x in a[:,::]])\n",
    "print(f\"a. In ra ma trận chuyển vị: \\n{a_t}\")\n",
    "print(f\"\\nb. In ra phần tử ở vị trí dòng 2 cột 3: {v_23}\")\n",
    "print(f\"\\nc. Trích xuất các dòng: \")\n",
    "print(f\"   + Dòng đầu : {d_0}\")\n",
    "print(f\"   + Dòng cuối: {d_last}\")\n",
    "print(f\"   + Dòng hai : {d_2}\")\n",
    "print(f\"\\nd. Trích xuất các cột: \")\n",
    "print(f\"   + Cột kế cuối: {c_l1}\")\n",
    "print(f\"   + Cột đầu: {c_0}\")\n",
    "print(f\"\\ne. Đảo các giá trị trên từng cột: \\n {dao_cot}\")\n",
    "print(f\"\\nf. Phép tính theo trục:\")\n",
    "print(f\"   + Tổng dòng: {tong_dong}\")\n",
    "print(f\"   + Trung bình cột: {tb_cot}\")"
   ]
  },
  {
   "cell_type": "markdown",
   "id": "bca46803-13a7-4324-b719-0bffd7110119",
   "metadata": {},
   "source": [
    "#### 3. Các toán tử trên hai ma trận\n",
    "(a) Tạo hai ma trận A và B có 4 dòng x 3 cột và X có 3 dòng x 4 cột <br/>\n",
    "(b) Tính tổng, hiệu, tích của từng phần tử trên hai ma trận A và B <br/>\n",
    "(c) Tính phép nhân ma trận Y = A x X"
   ]
  },
  {
   "cell_type": "code",
   "execution_count": 34,
   "id": "86d9c4ed-e86c-4baf-b51b-9dbd20e5c3cb",
   "metadata": {},
   "outputs": [
    {
     "name": "stdout",
     "output_type": "stream",
     "text": [
      "a. Tạo hai ma trận A và B có 4 dòng x 3 cột và X có 3 dòng x 4 cột\n",
      "+ Ma tran A: \n",
      "[[1 2 4]\n",
      " [5 4 4]\n",
      " [2 3 3]\n",
      " [1 5 5]]\n",
      "+ Ma tran B: \n",
      "[[2 5 2]\n",
      " [2 2 5]\n",
      " [5 4 5]\n",
      " [2 5 2]]\n",
      "+ Ma tran X: \n",
      "[[5 4 1 3]\n",
      " [1 1 3 5]\n",
      " [5 2 2 2]]\n",
      "\n",
      "b. Tính tổng, hiệu, tích của từng phần tử trên hai ma trận A và B\n",
      "A + B = \n",
      "[[ 3  7  6]\n",
      " [ 7  6  9]\n",
      " [ 7  7  8]\n",
      " [ 3 10  7]]\n",
      "A - B = \n",
      "[[-1 -3  2]\n",
      " [ 3  2 -1]\n",
      " [-3 -1 -2]\n",
      " [-1  0  3]]\n",
      "A . B = \n",
      "[[ 2 10  8]\n",
      " [10  8 20]\n",
      " [10 12 15]\n",
      " [ 2 25 10]]\n",
      "\n",
      "c. Tính phép nhân ma trận Y = A x X\n",
      "Y = A x X --> shape A ((4, 3)) x shape X ((3, 4)) = shape Y ((4, 4)) \n",
      "[[27 14 15 21]\n",
      " [49 32 25 43]\n",
      " [28 17 17 27]\n",
      " [35 19 26 38]]\n"
     ]
    }
   ],
   "source": [
    "\n",
    "A = np.random.randint(1,6,(4,3))\n",
    "B = np.random.randint(1,6,(4,3))\n",
    "X = np.random.randint(1,6,(3,4))\n",
    "# ...\n",
    "AB_add = A + B\n",
    "AB_sub = A - B\n",
    "AB_mul = A * B\n",
    "Y = np.dot(A, X)\n",
    "\n",
    "print(\"a. Tạo hai ma trận A và B có 4 dòng x 3 cột và X có 3 dòng x 4 cột\")\n",
    "print(f\"+ Ma tran A: \\n{A}\")\n",
    "print(f\"+ Ma tran B: \\n{B}\")\n",
    "print(f\"+ Ma tran X: \\n{X}\")\n",
    "\n",
    "print(\"\\nb. Tính tổng, hiệu, tích của từng phần tử trên hai ma trận A và B\")\n",
    "print(f\"A + B = \\n{AB_add}\")\n",
    "print(f\"A - B = \\n{AB_sub}\")\n",
    "print(f\"A . B = \\n{AB_mul}\")\n",
    "\n",
    "print(\"\\nc. Tính phép nhân ma trận Y = A x X\")\n",
    "print(f\"Y = A x X --> shape A ({A.shape}) x shape X ({X.shape}) = shape Y ({Y.shape}) \\n{Y}\")"
   ]
  },
  {
   "cell_type": "markdown",
   "id": "43602379-f77d-44ba-b2e3-23f85c6bcf5a",
   "metadata": {},
   "source": [
    "#### 4. Giải hệ phương trình tuyến tính\n",
    "Giải hệ phương trình tuyến tính sau:\n",
    "$$\n",
    "\\left\\{\\begin{matrix}\n",
    "        4x_1  + 3x_2 - 5x_3 = 2 \\\\ \n",
    "        -2x_1 - 4x_2 + 5x_3 = 5 \\\\ \n",
    "        8x_1 + 8x_2 = -3 \\\\ \n",
    "\\end{matrix}\\right.\n",
    "$$"
   ]
  },
  {
   "cell_type": "code",
   "execution_count": 37,
   "id": "53db2e93-fcbe-49f6-a4dd-482d22bcda54",
   "metadata": {},
   "outputs": [
    {
     "name": "stdout",
     "output_type": "stream",
     "text": [
      "+ Ma tran A: \n",
      "[[ 4  3 -5]\n",
      " [-2 -4  5]\n",
      " [ 8  8  0]]\n",
      "+ Vector y: [ 2  5 -3]\n",
      "+ Nghiem x: [ 2.20833333 -2.58333333 -0.18333333]\n",
      "+ Kiem tra: yy = Ax = [ 2.  5. -3.] ==> ||yy -y ||_2 =  0.00\n"
     ]
    }
   ],
   "source": [
    "\n",
    "A = np.array([[4, 3, -5],\n",
    "              [-2, -4, 5],\n",
    "              [8, 8, 0]])\n",
    "\n",
    "y = np.array([2, 5, -3])\n",
    "\n",
    "x = np.linalg.solve(A, y)\n",
    "\n",
    "yy = np.dot(A,x)\n",
    "diff = np.linalg.norm(yy - y, 2)\n",
    "# ...\n",
    "\n",
    "print(f\"+ Ma tran A: \\n{A}\")\n",
    "print(f\"+ Vector y: {y}\")\n",
    "print(f\"+ Nghiem x: {x}\")\n",
    "print(f\"+ Kiem tra: yy = Ax = {yy} ==> ||yy -y ||_2 = {diff: .2f}\")"
   ]
  },
  {
   "cell_type": "markdown",
   "id": "526b7e20-beca-4087-9cab-02ccc0a8f856",
   "metadata": {},
   "source": [
    "## Bài tập áp dụng"
   ]
  },
  {
   "cell_type": "markdown",
   "id": "9ee067fb-2045-4d3e-b504-ff4a8c3dcf37",
   "metadata": {},
   "source": [
    "### Bài 3. Tính gần đúng số pi dùng phương pháp Monte Carlo\n",
    "\n",
    "Vẽ một đường tròn $C$ có bán kính $r$ nội tiếp một hình vuông $C$, và đặt ngẫu nhiên $N$ chấm lên hình vuông. Tỉ lệ các chấm nằm trong hình tròn trên tổng số chấm xấp xỉ bằng diện tích của hình tròn chia cho hình vuông như sau:\n",
    "$$\n",
    "\\frac{N_C}{N} \\approx  \\frac{\\mathbb{S}_C}{\\mathbb{S}_N}\n",
    "$$\n",
    "nơi mà $N_C$ là các chấm trong hình tròn, $N$ là tổng số chấm, $\\mathbb{S}_C$ và $\\mathbb{S}_N$ lần lượt là diện tích của hình tròn và hình vuông.\n",
    "$$ \\mathbb{S}_C = \\pi * r^2 $$\n",
    "$$ \\mathbb{S}_N = (2*r)^2 = 4r^2 $$\n",
    "Do đó, công thức trên trở thành:\n",
    "$$\n",
    "\\frac{N_C}{N} \\approx \\frac{\\pi * r^2}{4r^2} = \\frac{\\pi}{4}\n",
    "$$\n",
    "Suy ra, ta có giá trị số $\\pi$ được tính như sau:\n",
    "$$\n",
    "\\pi \\approx \\frac{4N_C}{N}\n",
    "$$\n",
    "\n",
    "Các bạn hãy lập trình tính sấp xỉ số $\\pi$ dùng phương pháp Monte Carlo. Cho biết các sai số với $N = 100$, $N = 10000$, và $N = 1000000$. Vẽ đồ thị minh họa cho chương trình.\n",
    "\n",
    "**Hướng dẫn**: Viết chương trình phát sinh $N$ điểm $(x_i, y_i)$ với $x_i, y_i \\in [-1, -1]$. $(x_i, y_i)$ thuộc hình tròn tâm $(0, 0)$ bán kính 1 nội tiếp hình vuông có tâm tại $(0, 0)$ độ dài cạnh 2 khi và chỉ khi $x_i^2 + y_i^2 <= 1$."
   ]
  },
  {
   "cell_type": "code",
   "execution_count": 14,
   "id": "793640f7-4ba5-4d27-9d52-a65f4c25a5b0",
   "metadata": {},
   "outputs": [
    {
     "data": {
      "image/png": "[encoded data removed]",
      "text/plain": [
       "<Figure size 432x432 with 1 Axes>"
      ]
     },
     "metadata": {
      "needs_background": "light"
     },
     "output_type": "display_data"
    }
   ],
   "source": [
    "import matplotlib.pyplot as plt # khai báo thư viện vẽ pyplot\n",
    "import math\n",
    "\n",
    "circle = plt.Circle((0, 0), 1, color='g') # tạo đối tượng vòng tròn\n",
    "\n",
    "fig, ax = plt.subplots(figsize=(6, 6)) # lấy figure và vùng vẽ\n",
    "\n",
    "plt.plot(0, 0, 'o', color=(0.9, 0.9, 1.0), alpha=0.8) # vẽ điểm tại tâm (0,0)\n",
    "ax.add_patch(circle) # thêm vòng tròn vào vùng vẽ\n",
    "\n",
    "x = 0.75; y = math.sqrt(1 - (x ** 2)) # (x = 0.75, y = căn bậc 2 của 1 - x^2)\n",
    "plt.arrow(0, 0, x, y)\n",
    "\n",
    "plt.xlim(-1, 1) # giới hạn trục x\n",
    "plt.ylim(-1, 1) # giới hạn trục y\n",
    "\n",
    "plt.savefig('pi.png') # lưu đồ thị xuống tập tin\n",
    "plt.show()            # hiển thị đồ thị"
   ]
  },
  {
   "cell_type": "code",
   "execution_count": 15,
   "id": "bef335d2-9e51-4fa5-8843-aa1d67a607f0",
   "metadata": {},
   "outputs": [],
   "source": [
    "import numpy as np\n",
    "\n",
    "def calc_pi_monte_carlo(n = 100):\n",
    "    pi = 0\n",
    "    \n",
    "    # gợi ý: sử dụng np.random.rand(s1, s2, ...) --> sinh ngẫu nhiên các số trong nửa đoạn [0.0, 1.0)\n",
    "    \"\"\" CÁC BẠN LÀM BÀI Ở ĐÂY \"\"\"    \n",
    "    # ...\n",
    "    \n",
    "    return pi\n",
    "# calc_pi_monte_carlo"
   ]
  },
  {
   "cell_type": "code",
   "execution_count": 16,
   "id": "91071758-5957-497b-a5d1-2f2d17df6fae",
   "metadata": {},
   "outputs": [
    {
     "name": "stdout",
     "output_type": "stream",
     "text": [
      "epsilon(n=100):  0.17840734641020672\n",
      "epsilon(n=100):  0.33840734641020687\n",
      "epsilon(n=10000):  -0.02279265358979332\n",
      "epsilon(n=10000):  0.04240734641020705\n",
      "epsilon(n=1000000):  -0.0009246535897933228\n",
      "epsilon(n=1000000):  0.001139346410206965\n"
     ]
    }
   ],
   "source": [
    "import math\n",
    "\n",
    "print(\"epsilon(n=100): \", calc_pi_monte_carlo(n = 100) - math.pi)\n",
    "print(\"epsilon(n=100): \", calc_pi_monte_carlo(n = 100) - math.pi)\n",
    "print(\"epsilon(n=10000): \", calc_pi_monte_carlo(n = 10000) - math.pi)\n",
    "print(\"epsilon(n=10000): \", calc_pi_monte_carlo(n = 10000) - math.pi)\n",
    "print(\"epsilon(n=1000000): \", calc_pi_monte_carlo(n = 1000000) - math.pi)\n",
    "print(\"epsilon(n=1000000): \", calc_pi_monte_carlo(n = 1000000) - math.pi)"
   ]
  }
 ],
 "metadata": {
  "kernelspec": {
   "display_name": "base",
   "language": "python",
   "name": "python3"
  },
  "language_info": {
   "codemirror_mode": {
    "name": "ipython",
    "version": 3
   },
   "file_extension": ".py",
   "mimetype": "text/x-python",
   "name": "python",
   "nbconvert_exporter": "python",
   "pygments_lexer": "ipython3",
   "version": "3.13.5"
  }
 },
 "nbformat": 4,
 "nbformat_minor": 5
}
